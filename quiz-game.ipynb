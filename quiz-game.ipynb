{
 "cells": [
  {
   "cell_type": "code",
   "execution_count": 18,
   "metadata": {
    "_cell_guid": "b1076dfc-b9ad-4769-8c92-a6c4dae69d19",
    "_uuid": "8f2839f25d086af736a60e9eeb907d3b93b6e0e5",
    "execution": {
     "iopub.execute_input": "2024-04-21T13:38:21.091215Z",
     "iopub.status.busy": "2024-04-21T13:38:21.090721Z",
     "iopub.status.idle": "2024-04-21T13:39:09.187494Z",
     "shell.execute_reply": "2024-04-21T13:39:09.186377Z",
     "shell.execute_reply.started": "2024-04-21T13:38:21.091182Z"
    }
   },
   "outputs": [
    {
     "name": "stdout",
     "output_type": "stream",
     "text": [
      "Question 1\n",
      "What is the capital of France?\n",
      "1. Paris\n",
      "2. London\n",
      "3. Berlin\n",
      "4. Rome\n"
     ]
    },
    {
     "name": "stdin",
     "output_type": "stream",
     "text": [
      "Enter your answer:  5\n"
     ]
    },
    {
     "name": "stdout",
     "output_type": "stream",
     "text": [
      "Invalid input. Please enter a valid option number.\n",
      "Question 1\n",
      "What is the capital of France?\n",
      "1. Paris\n",
      "2. London\n",
      "3. Berlin\n",
      "4. Rome\n"
     ]
    },
    {
     "name": "stdin",
     "output_type": "stream",
     "text": [
      "Enter your answer:  2\n"
     ]
    },
    {
     "name": "stdout",
     "output_type": "stream",
     "text": [
      "Question 2\n",
      "What is 2 + 2?\n",
      "1. 3\n",
      "2. 4\n",
      "3. 5\n",
      "4. 6\n"
     ]
    },
    {
     "name": "stdin",
     "output_type": "stream",
     "text": [
      "Enter your answer:  2\n"
     ]
    },
    {
     "name": "stdout",
     "output_type": "stream",
     "text": [
      "Question 3\n",
      "What is 45 + 59?\n",
      "1. 105\n",
      "2. 96\n",
      "3. 110\n",
      "4. 104\n"
     ]
    },
    {
     "name": "stdin",
     "output_type": "stream",
     "text": [
      "Enter your answer:  2\n"
     ]
    },
    {
     "name": "stdout",
     "output_type": "stream",
     "text": [
      "Question 4\n",
      "What is 78 * 45?\n",
      "1. 2500\n",
      "2. 3490\n",
      "3. 3600\n",
      "4. 3510\n"
     ]
    },
    {
     "name": "stdin",
     "output_type": "stream",
     "text": [
      "Enter your answer:  2\n"
     ]
    },
    {
     "name": "stdout",
     "output_type": "stream",
     "text": [
      "Question 5\n",
      "Who is the Prime-Minister Of Australia?\n",
      "1. Rahul Gandhi\n",
      "2. Narendra Modi\n",
      "3. David Hurley\n",
      "4. Anthony Albanese\n"
     ]
    },
    {
     "name": "stdin",
     "output_type": "stream",
     "text": [
      "Enter your answer:  2\n"
     ]
    },
    {
     "name": "stdout",
     "output_type": "stream",
     "text": [
      "Question 6\n",
      "What is 4 + 5?\n",
      "1. 3\n",
      "2. 4\n",
      "3. 9\n",
      "4. 6\n"
     ]
    },
    {
     "name": "stdin",
     "output_type": "stream",
     "text": [
      "Enter your answer:  2\n"
     ]
    },
    {
     "name": "stdout",
     "output_type": "stream",
     "text": [
      "Question 7\n",
      "What is 2 + 3?\n",
      "1. 3\n",
      "2. 4\n",
      "3. 5\n",
      "4. 6\n"
     ]
    },
    {
     "name": "stdin",
     "output_type": "stream",
     "text": [
      "Enter your answer:  2\n"
     ]
    },
    {
     "name": "stdout",
     "output_type": "stream",
     "text": [
      "Quiz Finished!\n",
      "Your score: 1\n"
     ]
    }
   ],
   "source": [
    " class Quiz:\n",
    "    def __init__(self, questions):\n",
    "        self.questions = questions\n",
    "        self.score = 0\n",
    "        self.current_question = 0\n",
    "\n",
    "    def display_question(self):\n",
    "        print(\"Question\", self.current_question + 1)\n",
    "        print(self.questions[self.current_question]['question'])\n",
    "        for i, option in enumerate(self.questions[self.current_question]['options']):\n",
    "            print(f\"{i + 1}. {option}\")\n",
    "\n",
    "    def check_answer(self, user_answer):\n",
    "        correct_answer = self.questions[self.current_question]['answer']\n",
    "        if user_answer == correct_answer:\n",
    "            self.score += 1\n",
    "\n",
    "    def display_score(self):\n",
    "        print(\"Quiz Finished!\")\n",
    "        print(\"Your score:\", self.score)\n",
    "\n",
    "    def play(self):\n",
    "        for questions in self.questions:\n",
    "            while True:\n",
    "                self.display_question()\n",
    "                user_answer = input(\"Enter your answer: \".format(len(self.questions[self.current_question]['options'])))\n",
    "                try:\n",
    "                    user_answer = int(user_answer)\n",
    "                    if 1 <= user_answer <= len(self.questions[self.current_question]['options']):\n",
    "                        break\n",
    "                    else:\n",
    "                        print(\"Invalid input. Please enter a valid option number.\")\n",
    "                except ValueError:\n",
    "                    print(\"Invalid input. Please enter a number.\")\n",
    "\n",
    "            self.check_answer(user_answer)\n",
    "            self.current_question += 1\n",
    "\n",
    "        self.display_score()\n",
    "\n",
    "\n",
    "        \n",
    "\n",
    "questions = [\n",
    "    {\n",
    "        'question': \"What is the capital of France?\",\n",
    "        'options': [\"Paris\", \"London\", \"Berlin\", \"Rome\"],\n",
    "        'answer': 1\n",
    "    },\n",
    "    {\n",
    "        'question': \"What is 2 + 2?\",\n",
    "        'options': [\"3\", \"4\", \"5\", \"6\"],\n",
    "        'answer': 2\n",
    "    },\n",
    "    {\n",
    "        'question': \"What is 45 + 59?\",\n",
    "        'options': [\"105\", \"96\", \"110\", \"104\"],\n",
    "        'answer': 4\n",
    "    },\n",
    "    {\n",
    "        'question': \"What is 78 * 45?\",\n",
    "        'options': [\"2500\", \"3490\", \"3600\", \"3510\"],\n",
    "        'answer': 4\n",
    "    },\n",
    "    {\n",
    "        'question': \"Who is the Prime-Minister Of Australia?\",\n",
    "        'options': [\"Rahul Gandhi\", \"Narendra Modi\", \"David Hurley\", \"Anthony Albanese\"],\n",
    "        'answer': 4\n",
    "    },\n",
    "    {\n",
    "        'question': \"What is 4 + 5?\",\n",
    "        'options': [\"3\", \"4\", \"9\", \"6\"],\n",
    "        'answer': 3\n",
    "    },\n",
    "    {\n",
    "        'question': \"What is 2 + 3?\",\n",
    "        'options': [\"3\", \"4\", \"5\", \"6\"],\n",
    "        'answer': 3\n",
    "    }\n",
    "]\n",
    "\n",
    "quiz = Quiz(questions)\n",
    "quiz.play()\n"
   ]
  }
 ],
 "metadata": {
  "kaggle": {
   "accelerator": "none",
   "dataSources": [],
   "dockerImageVersionId": 30698,
   "isGpuEnabled": false,
   "isInternetEnabled": true,
   "language": "python",
   "sourceType": "notebook"
  },
  "kernelspec": {
   "display_name": "Python 3 (ipykernel)",
   "language": "python",
   "name": "python3"
  },
  "language_info": {
   "codemirror_mode": {
    "name": "ipython",
    "version": 3
   },
   "file_extension": ".py",
   "mimetype": "text/x-python",
   "name": "python",
   "nbconvert_exporter": "python",
   "pygments_lexer": "ipython3",
   "version": "3.11.3"
  }
 },
 "nbformat": 4,
 "nbformat_minor": 4
}
